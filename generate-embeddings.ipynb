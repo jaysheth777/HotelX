{
 "cells": [
  {
   "cell_type": "code",
   "execution_count": 1,
   "metadata": {
    "metadata": {}
   },
   "outputs": [],
   "source": [
    "# Installing necessary dependencies\n",
    "# %pip install tqdm pymongo python-dotenv together"
   ]
  },
  {
   "cell_type": "code",
   "execution_count": 2,
   "metadata": {
    "metadata": {}
   },
   "outputs": [],
   "source": [
    "# Importing libraries\n",
    "import os\n",
    "import tqdm\n",
    "import pymongo\n",
    "import together\n",
    "from typing import List\n",
    "from dotenv import load_dotenv"
   ]
  },
  {
   "cell_type": "code",
   "execution_count": 3,
   "metadata": {
    "metadata": {}
   },
   "outputs": [
    {
     "name": "stdout",
     "output_type": "stream",
     "text": [
      "Env. variables intialized\n"
     ]
    }
   ],
   "source": [
    "# Load env variables\n",
    "load_dotenv()\n",
    "\n",
    "MONGO_CONN_URI = os.getenv('MONGO_CONN_URI')\n",
    "TOGETHER_API_KEY = os.getenv('TOGETHER_API_KEY')\n",
    "\n",
    "if MONGO_CONN_URI and TOGETHER_API_KEY:\n",
    "    print(\"Env. variables intialized\")"
   ]
  },
  {
   "cell_type": "code",
   "execution_count": 4,
   "metadata": {
    "metadata": {}
   },
   "outputs": [],
   "source": [
    "# connect to mongodb using pymongo client\n",
    "mongo_client = pymongo.MongoClient(MONGO_CONN_URI)"
   ]
  },
  {
   "cell_type": "code",
   "execution_count": 5,
   "metadata": {
    "metadata": {}
   },
   "outputs": [],
   "source": [
    "def generate_embeddings(input_texts: List[str], model_api_string: str) -> List[List[float]]:\n",
    "    \"\"\"\n",
    "    Generate embeddings for a list of input texts using a specified model.\n",
    "\n",
    "    Args:\n",
    "        input_texts (List[str]): A list of strings for which embeddings need to be generated.\n",
    "        model_api_string (str): The API string identifier for the model to be used for generating embeddings.\n",
    "\n",
    "    Returns:\n",
    "        List[List[float]]: A list of embeddings, where each embedding is represented as a list of floats.\n",
    "\n",
    "    Example:\n",
    "        input_texts = [\"Hello world\", \"How are you?\"]\n",
    "        model_api_string = \"example-model\"\n",
    "        embeddings = generate_embeddings(input_texts, model_api_string)\n",
    "    \"\"\"\n",
    "    together_client = together.Together(api_key=TOGETHER_API_KEY)\n",
    "    outputs = together_client.embeddings.create(\n",
    "        input=input_texts,\n",
    "        model=model_api_string,\n",
    "    )\n",
    "    return [x.embedding for x in outputs.data]\n"
   ]
  },
  {
   "cell_type": "code",
   "execution_count": 6,
   "metadata": {
    "metadata": {}
   },
   "outputs": [],
   "source": [
    "# Define constants\n",
    "EMBEDDING_MODEL_STRING = 'togethercomputer/m2-bert-80M-8k-retrieval'\n",
    "VECTOR_DATABASE_FIELD_NAME = 'embedding_together_m2-bert-8k-retrieval'\n",
    "NUM_DOC_LIMIT = 800"
   ]
  },
  {
   "cell_type": "code",
   "execution_count": 7,
   "metadata": {
    "metadata": {}
   },
   "outputs": [],
   "source": [
    "db = mongo_client.sample_airbnb\n",
    "collection = db.listingsAndReviews\n",
    "\n",
    "keys_to_extract = [\"name\", \"summary\", \"space\", \"description\", \"neighborhood_overview\", \"notes\", \"transit\", \"access\", \"interaction\", \"house_rules\", \"property_type\", \"room_type\", \"bed_type\", \"minimum_nights\", \"maximum_nights\", \"accommodates\", \"bedrooms\", \"beds\"]"
   ]
  },
  {
   "cell_type": "code",
   "execution_count": 8,
   "metadata": {
    "metadata": {}
   },
   "outputs": [
    {
     "name": "stderr",
     "output_type": "stream",
     "text": [
      "Document Processing : 800it [03:19,  4.01it/s]"
     ]
    },
    {
     "name": "stdout",
     "output_type": "stream",
     "text": [
      "Processing Done\n"
     ]
    },
    {
     "name": "stderr",
     "output_type": "stream",
     "text": [
      "\n"
     ]
    }
   ],
   "source": [
    "for doc in tqdm.tqdm(collection.find({\"summary\":{\"$exists\": True}}).limit(NUM_DOC_LIMIT), desc=\"Document Processing \"):\n",
    "  extracted_str = \"\\n\".join([k + \": \" + str(doc[k]) for k in keys_to_extract if k in doc])\n",
    "  if VECTOR_DATABASE_FIELD_NAME not in doc:\n",
    "    doc[VECTOR_DATABASE_FIELD_NAME] = generate_embeddings([extracted_str], EMBEDDING_MODEL_STRING)[0]\n",
    "  collection.replace_one({'_id': doc['_id']}, doc)\n",
    "print(\"Processing Done\")"
   ]
  }
 ],
 "metadata": {
  "kernelspec": {
   "display_name": "Python 3",
   "language": "python",
   "name": "python3"
  },
  "language_info": {
   "codemirror_mode": {
    "name": "ipython",
    "version": 3
   },
   "file_extension": ".py",
   "mimetype": "text/x-python",
   "name": "python",
   "nbconvert_exporter": "python",
   "pygments_lexer": "ipython3",
   "version": "3.10.12"
  }
 },
 "nbformat": 4,
 "nbformat_minor": 2
}
